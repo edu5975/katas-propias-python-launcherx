{
 "cells": [
  {
   "cell_type": "markdown",
   "metadata": {},
   "source": [
    "# EJERCICIO 1"
   ]
  },
  {
   "cell_type": "code",
   "execution_count": 2,
   "metadata": {},
   "outputs": [],
   "source": [
    "# Crear variables para almacenar las dos distancias\n",
    "# Tierra (149.597.870 km) y Júpiter (778.547.200 km).\n",
    "earth = 149597870\n",
    "jupiter = 778547200"
   ]
  },
  {
   "cell_type": "code",
   "execution_count": 3,
   "metadata": {},
   "outputs": [
    {
     "name": "stdout",
     "output_type": "stream",
     "text": [
      "Distancia en Km 628949330\n",
      "Distancia en Millas 1012195830.53952\n"
     ]
    }
   ],
   "source": [
    "# Calcular la distancia entre planetas\n",
    "dist_km = abs( earth - jupiter)\n",
    "dist_millas = dist_km * 1.609344\n",
    "print(f'Distancia en Km {dist_km}')\n",
    "print(f'Distancia en Millas {dist_millas}')"
   ]
  },
  {
   "cell_type": "markdown",
   "metadata": {},
   "source": [
    "# EJERCICIO 2"
   ]
  },
  {
   "cell_type": "code",
   "execution_count": 9,
   "metadata": {},
   "outputs": [],
   "source": [
    "# Almacenar las entradas del usuario\n",
    "earth = input(\"¿Cuál es la distancia entre el sol y la tierra?\")\n",
    "jupiter = input(\"¿Cuál es la distancia entre el sol y jupiter?\")"
   ]
  },
  {
   "cell_type": "code",
   "execution_count": 8,
   "metadata": {},
   "outputs": [
    {
     "name": "stdout",
     "output_type": "stream",
     "text": [
      "Distancia en Km 222177777777777778\n",
      "Distancia en Millas 3.5756047360000006e+17\n"
     ]
    }
   ],
   "source": [
    "# Realizar el cálculo y determinar el valor absoluto\n",
    "# Convertir de KM a Millas\n",
    "\n",
    "dist_km = abs(int(earth) - int(jupiter))\n",
    "dist_millas = dist_km * 1.609344\n",
    "print(f'Distancia en Km {dist_km}')\n",
    "print(f'Distancia en Millas {dist_millas}')\n"
   ]
  }
 ],
 "metadata": {
  "interpreter": {
   "hash": "916dbcbb3f70747c44a77c7bcd40155683ae19c65e1c03b4aa3499c5328201f1"
  },
  "kernelspec": {
   "display_name": "Python 3.8.10 64-bit",
   "language": "python",
   "name": "python3"
  },
  "language_info": {
   "codemirror_mode": {
    "name": "ipython",
    "version": 3
   },
   "file_extension": ".py",
   "mimetype": "text/x-python",
   "name": "python",
   "nbconvert_exporter": "python",
   "pygments_lexer": "ipython3",
   "version": "3.8.10"
  },
  "orig_nbformat": 4
 },
 "nbformat": 4,
 "nbformat_minor": 2
}
