{
 "cells": [
  {
   "cell_type": "markdown",
   "metadata": {},
   "source": [
    "# EJERCICIO 1"
   ]
  },
  {
   "cell_type": "code",
   "execution_count": 2,
   "metadata": {},
   "outputs": [],
   "source": [
    "# Función para leer 3 tanques de combustible y muestre el promedio\n",
    "def reporte_tanques(tanque1,tanque2,tanque3):\n",
    "    promedio = (tanque1 + tanque2 + tanque3) / 3\n",
    "    return f\"\"\"Reporte:\n",
    "    Promedio: {promedio}%\n",
    "    Tanque 1: {tanque1}%\n",
    "    Tanque 2: {tanque2}%\n",
    "    Tanque 3: {tanque3}% \n",
    "    \"\"\"\n"
   ]
  },
  {
   "cell_type": "code",
   "execution_count": 3,
   "metadata": {},
   "outputs": [
    {
     "name": "stdout",
     "output_type": "stream",
     "text": [
      "Reporte:\n",
      "    Promedio: 78.33333333333333%\n",
      "    Tanque 1: 80%\n",
      "    Tanque 2: 70%\n",
      "    Tanque 3: 85% \n",
      "    \n"
     ]
    }
   ],
   "source": [
    "# Llamamos a la función que genera el reporte print(funcion(tanque1, tanque2, tanque3))\n",
    "print(reporte_tanques(80, 70, 85))"
   ]
  },
  {
   "cell_type": "code",
   "execution_count": 4,
   "metadata": {},
   "outputs": [
    {
     "data": {
      "text/plain": [
       "82.0"
      ]
     },
     "execution_count": 4,
     "metadata": {},
     "output_type": "execute_result"
    }
   ],
   "source": [
    "# Función promedio \n",
    "def promedio(valores):\n",
    "    total = sum(valores)\n",
    "    longitud = len(valores)\n",
    "    return total / longitud\n",
    "\n",
    "# Test the averaging function with a list of integers:\n",
    "promedio([80, 85, 81]) "
   ]
  },
  {
   "cell_type": "code",
   "execution_count": 7,
   "metadata": {},
   "outputs": [
    {
     "name": "stdout",
     "output_type": "stream",
     "text": [
      "Reporte:\n",
      "    Promedio: 40.0%\n",
      "    Tanque 1: 10%\n",
      "    Tanque 2: 40%\n",
      "    Tanque 3: 70% \n",
      "    \n"
     ]
    }
   ],
   "source": [
    "# Actualiza la función\n",
    "def reporte_tanques(tanque1,tanque2,tanque3):\n",
    "    return f\"\"\"Reporte:\n",
    "    Promedio: {promedio([tanque1,tanque2,tanque3])}%\n",
    "    Tanque 1: {tanque1}%\n",
    "    Tanque 2: {tanque2}%\n",
    "    Tanque 3: {tanque3}% \n",
    "    \"\"\"\n",
    "\n",
    "# Call the updated function again with different values\n",
    "print(reporte_tanques(10, 40, 70))"
   ]
  },
  {
   "cell_type": "markdown",
   "metadata": {},
   "source": [
    "# EJERCICIO 2"
   ]
  },
  {
   "cell_type": "code",
   "execution_count": 9,
   "metadata": {},
   "outputs": [
    {
     "name": "stdout",
     "output_type": "stream",
     "text": [
      "\n",
      "    Misión a Luna\n",
      "    Tiempo total: 65 minutos\n",
      "    Combustible restante: 500000 litros\n",
      "    \n"
     ]
    }
   ],
   "source": [
    "# Función con un informe preciso de la misión. Considera hora de prelanzamiento, tiempo de vuelo, destino, tanque externo y tanque interno\n",
    "\n",
    "def reporte_mision(tiempo_prelanzamiento, tiempo_vuelo, destino, tanque_externo, tanque_principal):\n",
    "    return f\"\"\"\n",
    "    Misión a {destino}\n",
    "    Tiempo total: {tiempo_prelanzamiento + tiempo_vuelo} minutos\n",
    "    Combustible restante: {tanque_externo + tanque_principal} litros\n",
    "    \"\"\"\n",
    "\n",
    "print(reporte_mision(14, 51, \"Luna\", 200000, 300000))"
   ]
  },
  {
   "cell_type": "code",
   "execution_count": 10,
   "metadata": {},
   "outputs": [
    {
     "name": "stdout",
     "output_type": "stream",
     "text": [
      "\n",
      "    Misión a Luna\n",
      "    Tiempo total: 76 minutos\n",
      "    Combustible restante: 500000 litros\n",
      "    \n"
     ]
    }
   ],
   "source": [
    "# Asegurate que la función sea más legible mediante el uso de nombres de variables que están asociados con las entradas, como *minutes y **fuel_reservoirs\n",
    "# Escribe tu nueva función de reporte considerando lo anterior\n",
    "\n",
    "def reporte_mision(destino, *minutos, **tanques):\n",
    "    return f\"\"\"\n",
    "    Misión a {destino}\n",
    "    Tiempo total: {sum(minutos)} minutos\n",
    "    Combustible restante: {sum(tanques.values())} litros\n",
    "    \"\"\"\n",
    "\n",
    "\n",
    "print(reporte_mision(\"Luna\", 10, 15, 51, principal=300000, externo=200000))"
   ]
  },
  {
   "cell_type": "code",
   "execution_count": 15,
   "metadata": {},
   "outputs": [
    {
     "name": "stdout",
     "output_type": "stream",
     "text": [
      "\n",
      "    Misión a Luna\n",
      "    Tiempo total: 76 minutos\n",
      "    Combustible restante Total: 500000 litros\n",
      "    Tanque principal tiene 300000 litros. Tanque externo tiene 200000 litros. \n"
     ]
    }
   ],
   "source": [
    "# Debido a que el combustible que queda en los tanques es específico de cada tanque, actualiza la función para usar el nombre de cada tanque en el informe\n",
    "def reporte_mision(destino, *minutos, **tanques):\n",
    "    reporte = f\"\"\"\n",
    "    Misión a {destino}\n",
    "    Tiempo total: {sum(minutos)} minutos\n",
    "    Combustible restante Total: {sum(tanques.values())} litros\n",
    "    \"\"\"\n",
    "    for tanque, litros in tanques.items():\n",
    "        reporte += f\"Tanque {tanque} tiene {litros} litros. \"\n",
    "    return reporte\n",
    "\n",
    "print(reporte_mision(\"Luna\", 10, 15, 51, principal=300000, externo=200000))"
   ]
  }
 ],
 "metadata": {
  "interpreter": {
   "hash": "916dbcbb3f70747c44a77c7bcd40155683ae19c65e1c03b4aa3499c5328201f1"
  },
  "kernelspec": {
   "display_name": "Python 3.8.10 64-bit",
   "language": "python",
   "name": "python3"
  },
  "language_info": {
   "codemirror_mode": {
    "name": "ipython",
    "version": 3
   },
   "file_extension": ".py",
   "mimetype": "text/x-python",
   "name": "python",
   "nbconvert_exporter": "python",
   "pygments_lexer": "ipython3",
   "version": "3.8.10"
  },
  "orig_nbformat": 4
 },
 "nbformat": 4,
 "nbformat_minor": 2
}
